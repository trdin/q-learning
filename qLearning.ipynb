{
 "cells": [
  {
   "attachments": {},
   "cell_type": "markdown",
   "metadata": {},
   "source": [
    "# Q learning"
   ]
  },
  {
   "cell_type": "code",
   "execution_count": 2,
   "metadata": {},
   "outputs": [],
   "source": [
    "import gym\n",
    "import matplotlib.pyplot as plt\n",
    "import numpy as np\n",
    "import random\n",
    "import imageio\n"
   ]
  },
  {
   "cell_type": "code",
   "execution_count": 3,
   "metadata": {},
   "outputs": [],
   "source": [
    "def create_gif(q_table, env, filename):\n",
    "   \n",
    "    frames = []\n",
    "    state = env.reset()\n",
    "    done = False\n",
    "    # dokler ni koncano \n",
    "    while not done:\n",
    "        if(type(state) == tuple):\n",
    "            state = state[0]\n",
    "        action = np.argmax(q_table[state, :])\n",
    "        #next_state, _, done, _ = env.step(action)\n",
    "        next_state, reward, terminated, truncated, info = env.step(action)\n",
    "        done = truncated | terminated\n",
    "        frame = env.render()\n",
    "        #ustvarimo frame \n",
    "        frames.append(frame)\n",
    "        #ga appendamo\n",
    "        state = next_state\n",
    "    #ustvarimo gif\n",
    "    imageio.mimsave(filename, frames, fps=6)\n",
    "    print(\"gif was created\")\n",
    "\n",
    "\n"
   ]
  },
  {
   "cell_type": "code",
   "execution_count": 7,
   "metadata": {},
   "outputs": [
    {
     "name": "stderr",
     "output_type": "stream",
     "text": [
      "c:\\Users\\trdin\\anaconda3\\envs\\Q-learning\\lib\\site-packages\\gym\\utils\\passive_env_checker.py:233: DeprecationWarning: `np.bool8` is a deprecated alias for `np.bool_`.  (Deprecated NumPy 1.24)\n",
      "  if not isinstance(terminated, (bool, np.bool8)):\n"
     ]
    },
    {
     "name": "stdout",
     "output_type": "stream",
     "text": [
      "learning has ended\n",
      "Evaluation has ended\n",
      "gif was created\n"
     ]
    }
   ],
   "source": [
    "#env = gym.make(\"FrozenLake-v1 (4x4)\", render_mode='rgb_array')\n",
    "env = gym.make('FrozenLake-v1', map_name=\"4x4\", is_slippery=False, render_mode='rgb_array')\n",
    " \n",
    "env.reset()\n",
    "#env.render()\n",
    "lr = 0.7 #learning rate                 \n",
    "gamma = 0.95              \n",
    "epsilon = 1.0                  \n",
    "max_epsilon = 1.0\n",
    "min_epsilon = 0.05         \n",
    "decay = 0.0005         \n",
    "\n",
    "n_train_episodes = 10000   \n",
    "n_eval_episodes = 100          \n",
    "max_steps = 100 \n",
    "\n",
    "# parametri iz vaj \n",
    "\n",
    "n_train_episodes = 10000  \n",
    "lr = 0.7 #learning rate  \n",
    "n_eval_episodes = 100\n",
    "max_steps =100 \n",
    "gamma =0.95\n",
    "min_epsilon = 0.05  \n",
    "max_epsilon = 1\n",
    "decay = 0.0005  \n",
    "\n",
    "filename = \"FrozenLake-v1(4x4).gif\"\n",
    "Q = initialize()\n",
    "Q, env = q_learning(Q, env, lr, gamma, max_epsilon, min_epsilon, decay,n_train_episodes, max_steps)\n",
    "Q, env = q_evaluate(Q, env, lr, gamma, max_epsilon, min_epsilon, decay, n_eval_episodes, max_steps)\n",
    "create_gif(Q, env, filename)"
   ]
  },
  {
   "cell_type": "code",
   "execution_count": 41,
   "metadata": {},
   "outputs": [
    {
     "name": "stdout",
     "output_type": "stream",
     "text": [
      "learning has ended\n",
      "Evaluation has ended\n",
      "gif was created\n"
     ]
    }
   ],
   "source": [
    "env = gym.make('FrozenLake-v1', map_name=\"4x4\", is_slippery=True, render_mode='rgb_array')\n",
    " \n",
    "env.reset()\n",
    "#env.render()\n",
    "lr = 0.7 #learning rate                 \n",
    "gamma = 0.95              \n",
    "epsilon = 1.0                  \n",
    "max_epsilon = 1.0\n",
    "min_epsilon = 0.05         \n",
    "decay = 0.0005         \n",
    "\n",
    "n_train_episodes = 1000    \n",
    "n_eval_episodes = 100          \n",
    "max_steps = 100 \n",
    "\n",
    "# parametri iz vaj \n",
    "\n",
    "n_train_episodes = 10000  \n",
    "lr = 0.7 #learning rate  \n",
    "n_eval_episodes = 100\n",
    "max_steps =100 \n",
    "gamma =0.95\n",
    "min_epsilon = 0.05  \n",
    "max_epsilon = 1\n",
    "decay = 0.0005  \n",
    "\n",
    "filename = \"FrozenLake-v1(4x4-slippery).gif\"\n",
    "Q = initialize()\n",
    "Q, env = q_learning(Q, env, lr, gamma, max_epsilon, min_epsilon, decay,n_train_episodes, max_steps)\n",
    "Q, env = q_evaluate(Q, env, lr, gamma, max_epsilon, min_epsilon, decay, n_eval_episodes, max_steps)\n",
    "\n",
    "create_gif(Q, env, filename)"
   ]
  },
  {
   "cell_type": "code",
   "execution_count": 43,
   "metadata": {},
   "outputs": [
    {
     "name": "stdout",
     "output_type": "stream",
     "text": [
      "learning has ended\n",
      "Evaluation has ended\n",
      "gif was created\n"
     ]
    }
   ],
   "source": [
    "env = gym.make('FrozenLake-v1', map_name=\"8x8\", is_slippery=False, render_mode='rgb_array')\n",
    " \n",
    "env.reset()\n",
    "#env.render()\n",
    "lr = 0.8 #learning rate                 \n",
    "gamma = 0.9             \n",
    "epsilon = 1.0                  \n",
    "max_epsilon = 1.0\n",
    "min_epsilon = 0.001         \n",
    "decay = 0.0005         \n",
    "\n",
    "n_train_episodes = 25000  \n",
    "n_eval_episodes = 1000          \n",
    "max_steps = 400 \n",
    "\n",
    "# parametri iz vaj \n",
    "\n",
    "n_train_episodes = 250000  \n",
    "lr = 0.8 #learning rate  \n",
    "n_eval_episodes = 1000 \n",
    "max_steps = 400 \n",
    "gamma = 0.9\n",
    "min_epsilon = 0.001  \n",
    "max_epsilon = 1\n",
    "decay = 0.00005   \n",
    "\n",
    "filename = \"FrozenLake-v1(8x8).gif\"\n",
    "Q = initialize()\n",
    "Q, env = q_learning(Q, env, lr, gamma, max_epsilon, min_epsilon, decay,n_train_episodes, max_steps)\n",
    "Q, env = q_evaluate(Q, env, lr, gamma,  max_epsilon, min_epsilon, decay, n_eval_episodes, max_steps)\n",
    "\n",
    "create_gif(Q, env, filename)"
   ]
  },
  {
   "cell_type": "code",
   "execution_count": 11,
   "metadata": {},
   "outputs": [
    {
     "name": "stdout",
     "output_type": "stream",
     "text": [
      "learning has ended\n",
      "Evaluation has ended\n",
      "gif was created\n"
     ]
    }
   ],
   "source": [
    "env = gym.make('FrozenLake-v1', map_name=\"8x8\", is_slippery=True, render_mode='rgb_array')\n",
    " \n",
    "env.reset()\n",
    "\n",
    "# parametri iz vaj \n",
    "\n",
    "n_train_episodes = 250000  \n",
    "lr = 0.8 #learning rate  \n",
    "n_eval_episodes = 1000 \n",
    "max_steps = 400 \n",
    "gamma = 0.9\n",
    "min_epsilon = 0.001  \n",
    "max_epsilon = 1\n",
    "decay = 0.00005        \n",
    "\n",
    "\n",
    "filename = \"FrozenLake-v1(8x8-slippery).gif\"\n",
    "Q = initialize()\n",
    "Q, env = q_learning(Q, env, lr, gamma, max_epsilon, min_epsilon, decay,n_train_episodes, max_steps)\n",
    "Q, env = q_evaluate(Q, env, lr, gamma,  max_epsilon, min_epsilon, decay, n_eval_episodes, max_steps)\n",
    "\n",
    "\n",
    "create_gif(Q, env, filename)"
   ]
  },
  {
   "cell_type": "code",
   "execution_count": 36,
   "metadata": {},
   "outputs": [
    {
     "name": "stdout",
     "output_type": "stream",
     "text": [
      "learning has ended\n",
      "Evaluation has ended\n",
      "gif was created\n"
     ]
    }
   ],
   "source": [
    "env = gym.make(\"Taxi-v3\", render_mode='rgb_array')\n",
    "env.reset()\n",
    "\n",
    "n_train_episodes = 2000  \n",
    "lr = 0.7 #learning rate  \n",
    "n_eval_episodes = 100 \n",
    "max_steps = 100 \n",
    "gamma = 0.618   \n",
    "min_epsilon = 0.01 \n",
    "max_epsilon = 1\n",
    "decay = 0.01         \n",
    "\n",
    "\n",
    "\n",
    "# parametri iz vaj \n",
    "\n",
    "n_train_episodes = 10000 \n",
    "lr = 0.7 #learning rate  \n",
    "n_eval_episodes = 100 \n",
    "max_steps = 100 \n",
    "gamma = 0.95 \n",
    "min_epsilon = 0.05 \n",
    "max_epsilon = 1\n",
    "decay =0.0005\n",
    "\n",
    "\n",
    "filename = \"Taxi-v3.gif\"\n",
    "Q = initialize()\n",
    "Q, env = q_learning(Q, env, lr, gamma, max_epsilon, min_epsilon, decay, n_train_episodes, max_steps)\n",
    "Q, env = q_evaluate(Q, env, lr, gamma, max_epsilon, min_epsilon, decay, n_eval_episodes, max_steps)\n",
    "\n",
    "create_gif(Q, env, filename)"
   ]
  },
  {
   "cell_type": "code",
   "execution_count": 37,
   "metadata": {},
   "outputs": [
    {
     "name": "stdout",
     "output_type": "stream",
     "text": [
      "learning has ended\n",
      "Evaluation has ended\n",
      "gif was created\n"
     ]
    }
   ],
   "source": [
    "env = gym.make(\"CliffWalking-v0\", render_mode='rgb_array')\n",
    "env.reset()\n",
    "#env.render()\n",
    "n_train_episodes = 2000  \n",
    "lr = 0.7 #learning rate  \n",
    "n_eval_episodes = 100 \n",
    "max_steps = 100 \n",
    "gamma = 0.618   \n",
    "min_epsilon = 0.01 \n",
    "max_epsilon = 1\n",
    "decay = 0.01         \n",
    "\n",
    "\n",
    "\n",
    "# parametri iz vaj \n",
    "\n",
    "n_train_episodes = 10000 \n",
    "lr = 0.7 #learning rate  \n",
    "n_eval_episodes = 100 \n",
    "max_steps = 100 \n",
    "gamma = 0.95 \n",
    "min_epsilon = 0.05 \n",
    "max_epsilon = 1\n",
    "decay =0.0005\n",
    "\n",
    "\n",
    "filename = \"CliffWalking-v0.gif\"\n",
    "Q = initialize()\n",
    "Q, env = q_learning(Q, env, lr, gamma, max_epsilon, min_epsilon, decay,n_train_episodes, max_steps)\n",
    "Q, env = q_evaluate(Q, env, lr, gamma, max_epsilon, min_epsilon, decay, n_eval_episodes, max_steps)\n",
    "\n",
    "create_gif(Q, env, filename)"
   ]
  },
  {
   "cell_type": "code",
   "execution_count": 4,
   "metadata": {},
   "outputs": [],
   "source": [
    "#initialize \n",
    "def initialize():\n",
    "    return np.zeros((env.observation_space.n, env.action_space.n))"
   ]
  },
  {
   "cell_type": "code",
   "execution_count": 5,
   "metadata": {},
   "outputs": [],
   "source": [
    "def q_learning(Q, env, lr, gamma, max_epsilon, min_epsilon, decay, n_train_episodes, max_steps):\n",
    "    epsilon = 1\n",
    "\n",
    "    for episode in range(n_train_episodes):\n",
    "        # določimo epsilon\n",
    "        epsilon = min_epsilon + (max_epsilon - min_epsilon)*np.exp(-decay*episode)\n",
    "\n",
    "        #pridobimo stanje okolja env\n",
    "        state = env.reset()    \n",
    "        #Starting the tracker for the rewards\n",
    "        \n",
    "        for step in range(max_steps): # korak in max steps \n",
    "            #Choosing an action given the states based on a random number\n",
    "            exp_exp_tradeoff = random.uniform(0, 1) \n",
    "            \n",
    "            \n",
    "            # določi akcijo v skladu s epsilon požrešnim pravilniko\n",
    "            if exp_exp_tradeoff > epsilon: #exploit\n",
    "                #print(\"Q shape:\", Q.shape)\n",
    "                if(type(state) == tuple):\n",
    "                    state = state[0]\n",
    "                #print(\"state:\", state)\n",
    "                action = np.argmax(Q[state,:])      \n",
    "            \n",
    "            else:#explore\n",
    "                action = env.action_space.sample()\n",
    "                \n",
    "                \n",
    "            #izvedemo akcijo\n",
    "            new_state, reward, terminated, truncated, info = env.step(action)\n",
    "            done = truncated | terminated\n",
    "\n",
    "            # state se lahko vrne kot tuple for some reason tako da je to treba preveriti\n",
    "            if(type(state) == tuple):\n",
    "                state = state[0]\n",
    "            \n",
    "            \n",
    "\n",
    "            #posodobimo Q tabelo v skladu s bellmanovo enačbo\n",
    "            Q[state, action] = Q[state, action] + lr * (reward + gamma * np.max(Q[new_state, :]) - Q[state, action]) \n",
    "            #posodobimo state  \n",
    "            state = new_state         \n",
    "            \n",
    "            #ce vodi v prekinitev prekinemo epizodo\n",
    "            if done == True:\n",
    "                break\n",
    "\n",
    "    print(\"learning has ended\")\n",
    "    return Q, env\n",
    "\n"
   ]
  },
  {
   "cell_type": "code",
   "execution_count": 6,
   "metadata": {},
   "outputs": [],
   "source": [
    "def  q_evaluate(Q, env, lr, gamma, max_epsilon, min_epsilon, decay, eval_episodes, max_steps):\n",
    "\n",
    "    epsilon = 1\n",
    "\n",
    "    for episode in range(eval_episodes):\n",
    "        #pridombmo epsilon\n",
    "        epsilon = min_epsilon + (max_epsilon - min_epsilon)*np.exp(-decay*episode)\n",
    "\n",
    "        #resertiramo okolje in pridobimo stanje \n",
    "        state = env.reset()    \n",
    "        \n",
    "        \n",
    "        for step in range(max_steps):\n",
    "            #izvedemo akcijo na podlagi q tabele\n",
    "            if(type(state) == tuple):\n",
    "                state = state[0]\n",
    "            action = np.argmax(Q[state, :])\n",
    "                \n",
    "                \n",
    "            #izvedemo akcijo\n",
    "            new_state, reward, terminated, truncated, info = env.step(action)\n",
    "            done = truncated | terminated\n",
    "\n",
    "            \n",
    "            if(type(state) == tuple):\n",
    "                state = state[0]\n",
    "            \n",
    "            \n",
    "\n",
    "            #posodobimo q tabelo s belllmanovo enačbo\n",
    "            Q[state, action] = Q[state, action] + lr * (reward + gamma * np.max(Q[new_state, :]) - Q[state, action]) \n",
    "            \n",
    "            #posodobimo stanje \n",
    "            state = new_state         \n",
    "            \n",
    "            #Ending the episode\n",
    "            if done == True:\n",
    "                break\n",
    "\n",
    "    print (\"Evaluation has ended\")\n",
    "    return Q, env"
   ]
  }
 ],
 "metadata": {
  "kernelspec": {
   "display_name": "Q-learning",
   "language": "python",
   "name": "python3"
  },
  "language_info": {
   "codemirror_mode": {
    "name": "ipython",
    "version": 3
   },
   "file_extension": ".py",
   "mimetype": "text/x-python",
   "name": "python",
   "nbconvert_exporter": "python",
   "pygments_lexer": "ipython3",
   "version": "3.9.16"
  },
  "orig_nbformat": 4
 },
 "nbformat": 4,
 "nbformat_minor": 2
}
